{
 "cells": [
  {
   "cell_type": "code",
   "execution_count": 1,
   "id": "ded8caf8",
   "metadata": {
    "_cell_guid": "b1076dfc-b9ad-4769-8c92-a6c4dae69d19",
    "_uuid": "8f2839f25d086af736a60e9eeb907d3b93b6e0e5",
    "execution": {
     "iopub.execute_input": "2025-08-12T17:47:43.554715Z",
     "iopub.status.busy": "2025-08-12T17:47:43.553804Z",
     "iopub.status.idle": "2025-08-12T17:47:45.559257Z",
     "shell.execute_reply": "2025-08-12T17:47:45.558058Z"
    },
    "papermill": {
     "duration": 2.010833,
     "end_time": "2025-08-12T17:47:45.561181",
     "exception": false,
     "start_time": "2025-08-12T17:47:43.550348",
     "status": "completed"
    },
    "tags": []
   },
   "outputs": [],
   "source": [
    "import numpy as np\n",
    "import pandas as pd\n",
    "import os"
   ]
  },
  {
   "cell_type": "markdown",
   "id": "a2a28274",
   "metadata": {
    "papermill": {
     "duration": 0.001569,
     "end_time": "2025-08-12T17:47:45.565214",
     "exception": false,
     "start_time": "2025-08-12T17:47:45.563645",
     "status": "completed"
    },
    "tags": []
   },
   "source": [
    "## Residual Network or ResNet ##\n",
    "\n",
    "ResNet is a groundbreaking deep learning architecture introduced in 2015 by Kaiming He and colleagues. It revolutionized image recognition by enabling the training of very deep neural networks—sometimes hundreds or even thousands of layers—without suffering from the vanishing gradient problem.\n",
    "\n",
    "ResNet uses skip connections (also called shortcut connections) that allow the input of a layer to bypass one or more layers and be added directly to the output.\n",
    "\n",
    "Instead of learning the full transformation, each block learns the residual—the difference between the input and the desired output.\n",
    "\n",
    "This makes it easier for the network to learn identity mappings and improves gradient flow during training."
   ]
  },
  {
   "cell_type": "code",
   "execution_count": null,
   "id": "0270beaf",
   "metadata": {
    "papermill": {
     "duration": 0.001428,
     "end_time": "2025-08-12T17:47:45.568163",
     "exception": false,
     "start_time": "2025-08-12T17:47:45.566735",
     "status": "completed"
    },
    "tags": []
   },
   "outputs": [],
   "source": []
  }
 ],
 "metadata": {
  "kaggle": {
   "accelerator": "none",
   "dataSources": [],
   "dockerImageVersionId": 31089,
   "isGpuEnabled": false,
   "isInternetEnabled": true,
   "language": "python",
   "sourceType": "notebook"
  },
  "kernelspec": {
   "display_name": "Python 3",
   "language": "python",
   "name": "python3"
  },
  "language_info": {
   "codemirror_mode": {
    "name": "ipython",
    "version": 3
   },
   "file_extension": ".py",
   "mimetype": "text/x-python",
   "name": "python",
   "nbconvert_exporter": "python",
   "pygments_lexer": "ipython3",
   "version": "3.11.13"
  },
  "papermill": {
   "default_parameters": {},
   "duration": 8.758844,
   "end_time": "2025-08-12T17:47:46.089681",
   "environment_variables": {},
   "exception": null,
   "input_path": "__notebook__.ipynb",
   "output_path": "__notebook__.ipynb",
   "parameters": {},
   "start_time": "2025-08-12T17:47:37.330837",
   "version": "2.6.0"
  }
 },
 "nbformat": 4,
 "nbformat_minor": 5
}
